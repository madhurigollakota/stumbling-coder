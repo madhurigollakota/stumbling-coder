{
 "cells": [
  {
   "cell_type": "markdown",
   "metadata": {},
   "source": [
    "### MergeTheTools"
   ]
  },
  {
   "cell_type": "code",
   "execution_count": 29,
   "metadata": {},
   "outputs": [
    {
     "name": "stdout",
     "output_type": "stream",
     "text": [
      "AABCAAADA\n",
      "3\n",
      "['AAB', 'CAA', 'ADA']\n",
      "AB\n",
      "CA\n",
      "AD\n"
     ]
    }
   ],
   "source": [
    "from collections import Counter\n",
    "def merge_the_tools(string, k):\n",
    "    # your code goes here'\n",
    "    mylist=[]\n",
    "    init=0\n",
    "    while(init!=len(string)):\n",
    "        mylist.append(string[init:init+k])\n",
    "        init=init+k\n",
    "    for i in mylist:\n",
    "        print(''.join(list(Counter(i).keys())))\n",
    "\n",
    "if __name__ == '__main__':\n",
    "    string, k = input(), int(input())\n",
    "    merge_the_tools(string, k)"
   ]
  },
  {
   "cell_type": "code",
   "execution_count": 13,
   "metadata": {},
   "outputs": [],
   "source": [
    "l=['A','A','B']"
   ]
  },
  {
   "cell_type": "code",
   "execution_count": 23,
   "metadata": {
    "scrolled": true
   },
   "outputs": [
    {
     "data": {
      "text/plain": [
       "['A', 'B']"
      ]
     },
     "execution_count": 23,
     "metadata": {},
     "output_type": "execute_result"
    }
   ],
   "source": [
    "from collections import Counter\n",
    "list(Counter(l).keys())"
   ]
  },
  {
   "cell_type": "markdown",
   "metadata": {},
   "source": [
    "### Print Function"
   ]
  },
  {
   "cell_type": "code",
   "execution_count": 43,
   "metadata": {
    "scrolled": true
   },
   "outputs": [
    {
     "name": "stdout",
     "output_type": "stream",
     "text": [
      "5\n",
      "12345\n"
     ]
    }
   ],
   "source": [
    "if __name__ == '__main__':\n",
    "    n = int(input())\n",
    "    print(*range(1,n+1),sep='')"
   ]
  },
  {
   "cell_type": "markdown",
   "metadata": {},
   "source": [
    "### itertools.product()"
   ]
  },
  {
   "cell_type": "code",
   "execution_count": 53,
   "metadata": {
    "scrolled": true
   },
   "outputs": [
    {
     "name": "stdout",
     "output_type": "stream",
     "text": [
      "1 2\n",
      "3 4\n",
      "(1, 3) (1, 4) (2, 3) (2, 4)\n"
     ]
    }
   ],
   "source": [
    "from itertools import product\n",
    "A=list(map(int,input().split(' ')))\n",
    "B=list(map(int,input().split(' ')))\n",
    "\n",
    "print(*product(A,B))"
   ]
  },
  {
   "cell_type": "markdown",
   "metadata": {},
   "source": [
    "### itertools.permutations()"
   ]
  },
  {
   "cell_type": "code",
   "execution_count": 66,
   "metadata": {
    "scrolled": true
   },
   "outputs": [
    {
     "name": "stdout",
     "output_type": "stream",
     "text": [
      "ABCD 3\n",
      "ABC\n",
      "ABD\n",
      "ACB\n",
      "ACD\n",
      "ADB\n",
      "ADC\n",
      "BAC\n",
      "BAD\n",
      "BCA\n",
      "BCD\n",
      "BDA\n",
      "BDC\n",
      "CAB\n",
      "CAD\n",
      "CBA\n",
      "CBD\n",
      "CDA\n",
      "CDB\n",
      "DAB\n",
      "DAC\n",
      "DBA\n",
      "DBC\n",
      "DCA\n",
      "DCB\n"
     ]
    }
   ],
   "source": [
    "from itertools import permutations\n",
    "a, b=input().split(' ')\n",
    "mylist=sorted(list(permutations(a,int(b))))\n",
    "mylist=[''.join(i) for i in mylist]\n",
    "print(*mylist,sep='\\n')"
   ]
  },
  {
   "cell_type": "markdown",
   "metadata": {},
   "source": [
    "### itertools.combinations()"
   ]
  },
  {
   "cell_type": "code",
   "execution_count": 80,
   "metadata": {
    "scrolled": true
   },
   "outputs": [
    {
     "name": "stdout",
     "output_type": "stream",
     "text": [
      "HACK 2\n",
      "A\n",
      "C\n",
      "H\n",
      "K\n",
      "AC\n",
      "AH\n",
      "AK\n",
      "CH\n",
      "CK\n",
      "HK\n"
     ]
    }
   ],
   "source": [
    "from itertools import combinations\n",
    "a,b=input().split(' ')\n",
    "mylist=[]\n",
    "for i in range(1,int(b)+1):\n",
    "    mylist=mylist+(list(combinations(sorted(a),i)))\n",
    "mylist=[''.join(i) for i in mylist]\n",
    "print(*mylist,sep='\\n')"
   ]
  },
  {
   "cell_type": "code",
   "execution_count": 78,
   "metadata": {},
   "outputs": [
    {
     "name": "stdout",
     "output_type": "stream",
     "text": [
      "('A', 'C') ('A', 'H') ('A', 'K') ('C', 'H') ('C', 'K') ('H', 'K')\n"
     ]
    }
   ],
   "source": [
    "print(*combinations(sorted('HACK'),2))"
   ]
  }
 ],
 "metadata": {
  "kernelspec": {
   "display_name": "Python 3",
   "language": "python",
   "name": "python3"
  },
  "language_info": {
   "codemirror_mode": {
    "name": "ipython",
    "version": 3
   },
   "file_extension": ".py",
   "mimetype": "text/x-python",
   "name": "python",
   "nbconvert_exporter": "python",
   "pygments_lexer": "ipython3",
   "version": "3.8.3"
  }
 },
 "nbformat": 4,
 "nbformat_minor": 4
}
