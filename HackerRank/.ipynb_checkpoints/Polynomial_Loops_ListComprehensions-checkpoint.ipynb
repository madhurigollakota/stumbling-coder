{
 "cells": [
  {
   "cell_type": "code",
   "execution_count": 5,
   "metadata": {
    "scrolled": false
   },
   "outputs": [
    {
     "name": "stdout",
     "output_type": "stream",
     "text": [
      "4\n",
      "0 5\n",
      "1 0\n",
      "2 10\n",
      "3 6\n",
      "6x^3 + 10x^2 + 5x^0\n"
     ]
    }
   ],
   "source": [
    "n=int(input())\n",
    "c=list()\n",
    "a=list()\n",
    "for i in range(n):\n",
    "    x,y=input().split(' ')\n",
    "    c.append(x)\n",
    "    a.append(y)\n",
    "s=''\n",
    "for i in range(len(c))[::-1]:\n",
    "    if(a[i]!='0'):\n",
    "        if(s!=''):\n",
    "            s=s+' + '+a[i]+'x^'+c[i]\n",
    "        else:\n",
    "            s=s+a[i]+'x^'+c[i]\n",
    "    else:\n",
    "        s=s\n",
    "print(s)"
   ]
  },
  {
   "cell_type": "code",
   "execution_count": 41,
   "metadata": {},
   "outputs": [
    {
     "name": "stdout",
     "output_type": "stream",
     "text": [
      "4\n",
      "1 1\n",
      "2 1\n",
      "3 1\n",
      "4 1\n",
      "1x^4 +1x^3 +1x^2 +1x^1\n"
     ]
    }
   ],
   "source": [
    "def getterm(m,n):\n",
    "    if(n==0):\n",
    "        return ''\n",
    "    else:\n",
    "        if(m==0):\n",
    "            if(n<0):\n",
    "                return str(n)\n",
    "            else:\n",
    "                return ' +'+str(n)\n",
    "        else:\n",
    "            if(n<0):\n",
    "                return ' '+str(n)+'x^'+str(m)\n",
    "            else:\n",
    "                return ' +'+str(n)+'x^'+str(m)\n",
    "n=int(input())\n",
    "c=list()\n",
    "for i in range(n):\n",
    "    x,y=map(int,input().split(' '))\n",
    "    c.append(getterm(x,y))\n",
    "s=''\n",
    "for i in range(len(c))[::-1]:\n",
    "    if((s=='') and (c[i]!='') and(c[i][1]!='-')):\n",
    "        s=s+c[i][2:]\n",
    "    else:\n",
    "        s=s+c[i]   \n",
    "print(s)"
   ]
  },
  {
   "cell_type": "code",
   "execution_count": 34,
   "metadata": {},
   "outputs": [
    {
     "data": {
      "text/plain": [
       "'-'"
      ]
     },
     "execution_count": 34,
     "metadata": {},
     "output_type": "execute_result"
    }
   ],
   "source": [
    "c[1][1]"
   ]
  },
  {
   "cell_type": "code",
   "execution_count": 24,
   "metadata": {},
   "outputs": [
    {
     "data": {
      "text/plain": [
       "['5', '', ' +10x^2', ' +6x^3']"
      ]
     },
     "execution_count": 24,
     "metadata": {},
     "output_type": "execute_result"
    }
   ],
   "source": [
    "c"
   ]
  },
  {
   "cell_type": "code",
   "execution_count": 25,
   "metadata": {},
   "outputs": [],
   "source": [
    "def getterm(m,n):\n",
    "    if(n==0):\n",
    "        return ''\n",
    "    else:\n",
    "        if(m==0):\n",
    "            if(n<0):\n",
    "                return str(n)\n",
    "            else:\n",
    "                return ' +'+str(n)\n",
    "        else:\n",
    "            if(n<0):\n",
    "                return ' '+str(n)+'x^'+str(m)\n",
    "            else:\n",
    "                return ' +'+str(n)+'x^'+str(m)"
   ]
  },
  {
   "cell_type": "code",
   "execution_count": 30,
   "metadata": {},
   "outputs": [
    {
     "data": {
      "text/plain": [
       "' -5x^1'"
      ]
     },
     "execution_count": 30,
     "metadata": {},
     "output_type": "execute_result"
    }
   ],
   "source": [
    "getterm(1,-5)"
   ]
  },
  {
   "cell_type": "code",
   "execution_count": 11,
   "metadata": {},
   "outputs": [
    {
     "name": "stdout",
     "output_type": "stream",
     "text": [
      "4\n",
      "3\n",
      "2\n",
      "1\n",
      "0\n"
     ]
    }
   ],
   "source": [
    "for i in range(5)[::-1]:\n",
    "    print(i)"
   ]
  },
  {
   "cell_type": "code",
   "execution_count": 2,
   "metadata": {},
   "outputs": [
    {
     "data": {
      "text/plain": [
       "'ab'"
      ]
     },
     "execution_count": 2,
     "metadata": {},
     "output_type": "execute_result"
    }
   ],
   "source": [
    "'a'+'b'"
   ]
  },
  {
   "cell_type": "code",
   "execution_count": 46,
   "metadata": {},
   "outputs": [
    {
     "data": {
      "text/plain": [
       "[3, 2, 1, 0]"
      ]
     },
     "execution_count": 46,
     "metadata": {},
     "output_type": "execute_result"
    }
   ],
   "source": [
    "c[::-1]"
   ]
  },
  {
   "cell_type": "code",
   "execution_count": 9,
   "metadata": {
    "scrolled": true
   },
   "outputs": [
    {
     "name": "stdout",
     "output_type": "stream",
     "text": [
      "1 2\n",
      "5 6\n",
      "8 9\n"
     ]
    }
   ],
   "source": [
    "for i,j in zip(c,a):\n",
    "    print(i,j)"
   ]
  },
  {
   "cell_type": "markdown",
   "metadata": {},
   "source": [
    "### Loops"
   ]
  },
  {
   "cell_type": "code",
   "execution_count": 1,
   "metadata": {
    "scrolled": true
   },
   "outputs": [
    {
     "name": "stdout",
     "output_type": "stream",
     "text": [
      "5\n",
      "0\n",
      "1\n",
      "4\n",
      "9\n",
      "16\n"
     ]
    }
   ],
   "source": [
    "for i in range(int(input())):\n",
    "    print(i**2)"
   ]
  },
  {
   "cell_type": "markdown",
   "metadata": {},
   "source": [
    "### List Comprehensions"
   ]
  },
  {
   "cell_type": "code",
   "execution_count": null,
   "metadata": {},
   "outputs": [],
   "source": [
    "    x = int(input())\n",
    "    y = int(input())\n",
    "    z = int(input())\n",
    "    n = int(input())\n",
    "    \n",
    "    for i in range(x):\n",
    "        "
   ]
  }
 ],
 "metadata": {
  "kernelspec": {
   "display_name": "Python 3",
   "language": "python",
   "name": "python3"
  },
  "language_info": {
   "codemirror_mode": {
    "name": "ipython",
    "version": 3
   },
   "file_extension": ".py",
   "mimetype": "text/x-python",
   "name": "python",
   "nbconvert_exporter": "python",
   "pygments_lexer": "ipython3",
   "version": "3.8.3"
  }
 },
 "nbformat": 4,
 "nbformat_minor": 4
}
