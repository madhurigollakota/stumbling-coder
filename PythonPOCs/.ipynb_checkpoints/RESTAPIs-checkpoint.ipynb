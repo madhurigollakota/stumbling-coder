{
 "cells": [
  {
   "cell_type": "code",
   "execution_count": 1,
   "metadata": {},
   "outputs": [],
   "source": [
    "from flask import Flask,jsonify,request"
   ]
  },
  {
   "cell_type": "code",
   "execution_count": 2,
   "metadata": {},
   "outputs": [],
   "source": [
    "app=Flask(__name__)\n",
    "app.config['JSONIFY_PRETTYPRINT_REGULAR']=True\n",
    "stores=[{'name':'Mystore1',\n",
    "         'items':['Colgate','Pepsi','TajMahal Tea'],\n",
    "         'type':'Kirana'},\n",
    "        {'name':'Mystore2',\n",
    "         'items':['Pipes','valves','Mseal'],\n",
    "         'type':'Hardware'}\n",
    "    ]"
   ]
  },
  {
   "cell_type": "code",
   "execution_count": 3,
   "metadata": {},
   "outputs": [
    {
     "data": {
      "text/plain": [
       "[{'name': 'Mystore1',\n",
       "  'items': ['Colgate', 'Pepsi', 'TajMahal Tea'],\n",
       "  'type': 'Kirana'},\n",
       " {'name': 'Mystore2',\n",
       "  'items': ['Pipes', 'valves', 'Mseal'],\n",
       "  'type': 'Hardware'}]"
      ]
     },
     "execution_count": 3,
     "metadata": {},
     "output_type": "execute_result"
    }
   ],
   "source": [
    "stores"
   ]
  },
  {
   "cell_type": "code",
   "execution_count": 4,
   "metadata": {},
   "outputs": [],
   "source": [
    "@app.route('/stores',methods=['GET'])\n",
    "def get_stores():\n",
    "    return jsonify({'stores':stores})\n",
    "\n",
    "@app.route('/store/<string:name>',methods=['GET'])\n",
    "def get_store(name):\n",
    "    for store in stores:\n",
    "        if store['name'].lower()==name.lower():\n",
    "            return jsonify({'stores':store})\n",
    "\n",
    "    return 'No store exists with that name'\n",
    "        \n",
    "@app.route('/store',methods=['POST'])\n",
    "def create_store():\n",
    "    store_data=request.get_json()\n",
    "    new_store={\n",
    "        'name':store_data['name'],\n",
    "        'type':store_data['type'],\n",
    "        'items':store_data['items']\n",
    "    }\n",
    "    stores.append(new_store)\n",
    "    return 'Store created'\n",
    "\n",
    "@app.route('/store/<string:name>/items',methods=['GET'])\n",
    "def get_items(name):\n",
    "    for store in stores:\n",
    "        if store['name'].lower()==name.lower():\n",
    "            return jsonify({'items':store['items']})\n",
    "        \n",
    "    return 'No store exists with that name'\n",
    "        \n",
    "@app.route('/store/<string:name>/items',methods=['POST'])\n",
    "def create_items(name):\n",
    "    item_data=request.get_json()\n",
    "    for store in stores:\n",
    "        if store['name'].lower()==name.lower():\n",
    "            for item in item_data['items']:\n",
    "                store['items'].append(item)\n",
    "            return 'Items added'\n",
    "        \n",
    "    return 'No store exists with that name'\n",
    "        "
   ]
  },
  {
   "cell_type": "code",
   "execution_count": null,
   "metadata": {
    "scrolled": true
   },
   "outputs": [
    {
     "name": "stdout",
     "output_type": "stream",
     "text": [
      " * Serving Flask app \"__main__\" (lazy loading)\n",
      " * Environment: production\n",
      "   WARNING: This is a development server. Do not use it in a production deployment.\n",
      "   Use a production WSGI server instead.\n",
      " * Debug mode: off\n"
     ]
    },
    {
     "name": "stderr",
     "output_type": "stream",
     "text": [
      " * Running on http://127.0.0.1:7888/ (Press CTRL+C to quit)\n",
      "127.0.0.1 - - [16/Jun/2021 09:21:26] \"\u001b[37mPOST /store HTTP/1.1\u001b[0m\" 200 -\n",
      "127.0.0.1 - - [16/Jun/2021 09:21:32] \"\u001b[37mGET /stores HTTP/1.1\u001b[0m\" 200 -\n",
      "127.0.0.1 - - [16/Jun/2021 09:21:36] \"\u001b[37mPOST /store/myStore3/items HTTP/1.1\u001b[0m\" 200 -\n",
      "127.0.0.1 - - [16/Jun/2021 09:21:40] \"\u001b[37mGET /stores HTTP/1.1\u001b[0m\" 200 -\n"
     ]
    }
   ],
   "source": [
    "app.run(port=7888)"
   ]
  }
 ],
 "metadata": {
  "kernelspec": {
   "display_name": "Python 3",
   "language": "python",
   "name": "python3"
  },
  "language_info": {
   "codemirror_mode": {
    "name": "ipython",
    "version": 3
   },
   "file_extension": ".py",
   "mimetype": "text/x-python",
   "name": "python",
   "nbconvert_exporter": "python",
   "pygments_lexer": "ipython3",
   "version": "3.8.3"
  }
 },
 "nbformat": 4,
 "nbformat_minor": 4
}
